{
 "cells": [
  {
   "cell_type": "markdown",
   "metadata": {},
   "source": [
    "# Dropout\n",
    "Dropout [1] is a technique for regularizing neural networks by randomly setting some features to zero during the forward pass. In this exercise you will implement a dropout layer and modify your fully-connected network to optionally use dropout.\n",
    "\n",
    "[1] Geoffrey E. Hinton et al, \"Improving neural networks by preventing co-adaptation of feature detectors\", arXiv 2012"
   ]
  },
  {
   "cell_type": "code",
   "execution_count": 2,
   "metadata": {
    "collapsed": false
   },
   "outputs": [],
   "source": [
    "# As usual, a bit of setup\n",
    "\n",
    "import time\n",
    "import numpy as np\n",
    "import matplotlib.pyplot as plt\n",
    "from cs231n.classifiers.fc_net import *\n",
    "from cs231n.data_utils import get_CIFAR10_data\n",
    "from cs231n.gradient_check import eval_numerical_gradient, eval_numerical_gradient_array\n",
    "from cs231n.solver import Solver\n",
    "\n",
    "%matplotlib inline\n",
    "plt.rcParams['figure.figsize'] = (10.0, 8.0) # set default size of plots\n",
    "plt.rcParams['image.interpolation'] = 'nearest'\n",
    "plt.rcParams['image.cmap'] = 'gray'\n",
    "\n",
    "# for auto-reloading external modules\n",
    "# see http://stackoverflow.com/questions/1907993/autoreload-of-modules-in-ipython\n",
    "%load_ext autoreload\n",
    "%autoreload 2\n",
    "\n",
    "def rel_error(x, y):\n",
    "  \"\"\" returns relative error \"\"\"\n",
    "  return np.max(np.abs(x - y) / (np.maximum(1e-8, np.abs(x) + np.abs(y))))"
   ]
  },
  {
   "cell_type": "code",
   "execution_count": 3,
   "metadata": {
    "collapsed": false
   },
   "outputs": [
    {
     "name": "stdout",
     "output_type": "stream",
     "text": [
      "X_val:  (1000, 3, 32, 32)\n",
      "X_train:  (49000, 3, 32, 32)\n",
      "X_test:  (1000, 3, 32, 32)\n",
      "y_val:  (1000,)\n",
      "y_train:  (49000,)\n",
      "y_test:  (1000,)\n"
     ]
    }
   ],
   "source": [
    "# Load the (preprocessed) CIFAR10 data.\n",
    "\n",
    "data = get_CIFAR10_data()\n",
    "for k, v in data.iteritems():\n",
    "  print '%s: ' % k, v.shape"
   ]
  },
  {
   "cell_type": "markdown",
   "metadata": {},
   "source": [
    "# Dropout forward pass\n",
    "In the file `cs231n/layers.py`, implement the forward pass for dropout. Since dropout behaves differently during training and testing, make sure to implement the operation for both modes.\n",
    "\n",
    "Once you have done so, run the cell below to test your implementation."
   ]
  },
  {
   "cell_type": "code",
   "execution_count": 7,
   "metadata": {
    "collapsed": false
   },
   "outputs": [
    {
     "name": "stdout",
     "output_type": "stream",
     "text": [
      "Running tests with p =  0.3\n",
      "Mean of input:  10.0029873446\n",
      "Mean of train-time output:  10.0230636743\n",
      "Mean of test-time output:  10.0029873446\n",
      "Fraction of train-time output set to zero:  0.6995\n",
      "Fraction of test-time output set to zero:  0.0\n",
      "\n",
      "Running tests with p =  0.6\n",
      "Mean of input:  10.0029873446\n",
      "Mean of train-time output:  10.0155209332\n",
      "Mean of test-time output:  10.0029873446\n",
      "Fraction of train-time output set to zero:  0.399204\n",
      "Fraction of test-time output set to zero:  0.0\n",
      "\n",
      "Running tests with p =  0.75\n",
      "Mean of input:  10.0029873446\n",
      "Mean of train-time output:  10.0050595732\n",
      "Mean of test-time output:  10.0029873446\n",
      "Fraction of train-time output set to zero:  0.249888\n",
      "Fraction of test-time output set to zero:  0.0\n",
      "\n"
     ]
    }
   ],
   "source": [
    "x = np.random.randn(500, 500) + 10\n",
    "\n",
    "for p in [0.3, 0.6, 0.75]:\n",
    "  out, _ = dropout_forward(x, {'mode': 'train', 'p': p})\n",
    "  out_test, _ = dropout_forward(x, {'mode': 'test', 'p': p})\n",
    "\n",
    "  print 'Running tests with p = ', p\n",
    "  print 'Mean of input: ', x.mean()\n",
    "  print 'Mean of train-time output: ', out.mean()\n",
    "  print 'Mean of test-time output: ', out_test.mean()\n",
    "  print 'Fraction of train-time output set to zero: ', (out == 0).mean()\n",
    "  print 'Fraction of test-time output set to zero: ', (out_test == 0).mean()\n",
    "  print"
   ]
  },
  {
   "cell_type": "markdown",
   "metadata": {},
   "source": [
    "# Dropout backward pass\n",
    "In the file `cs231n/layers.py`, implement the backward pass for dropout. After doing so, run the following cell to numerically gradient-check your implementation."
   ]
  },
  {
   "cell_type": "code",
   "execution_count": 10,
   "metadata": {
    "collapsed": false
   },
   "outputs": [
    {
     "name": "stdout",
     "output_type": "stream",
     "text": [
      "dx relative error:  5.44561089195e-11\n"
     ]
    }
   ],
   "source": [
    "x = np.random.randn(10, 10) + 10\n",
    "dout = np.random.randn(*x.shape)\n",
    "\n",
    "dropout_param = {'mode': 'train', 'p': 0.8, 'seed': 123}\n",
    "out, cache = dropout_forward(x, dropout_param)\n",
    "dx = dropout_backward(dout, cache)\n",
    "dx_num = eval_numerical_gradient_array(lambda xx: dropout_forward(xx, dropout_param)[0], x, dout)\n",
    "\n",
    "print 'dx relative error: ', rel_error(dx, dx_num)"
   ]
  },
  {
   "cell_type": "markdown",
   "metadata": {},
   "source": [
    "# Fully-connected nets with Dropout\n",
    "In the file `cs231n/classifiers/fc_net.py`, modify your implementation to use dropout. Specificially, if the constructor the the net receives a nonzero value for the `dropout` parameter, then the net should add dropout immediately after every ReLU nonlinearity. After doing so, run the following to numerically gradient-check your implementation."
   ]
  },
  {
   "cell_type": "code",
   "execution_count": 11,
   "metadata": {
    "collapsed": false
   },
   "outputs": [
    {
     "name": "stdout",
     "output_type": "stream",
     "text": [
      "Running check with dropout =  0\n",
      "Initial loss:  2.3051948274\n",
      "W1 relative error: 2.53e-07\n",
      "W2 relative error: 1.50e-05\n",
      "W3 relative error: 2.75e-07\n",
      "b1 relative error: 2.94e-06\n",
      "b2 relative error: 5.05e-08\n",
      "b3 relative error: 1.17e-10\n",
      "\n",
      "Running check with dropout =  0.25\n",
      "Initial loss:  2.31264683457\n",
      "W1 relative error: 1.48e-08\n",
      "W2 relative error: 2.34e-10\n",
      "W3 relative error: 3.56e-08\n",
      "b1 relative error: 1.53e-09\n",
      "b2 relative error: 1.84e-10\n",
      "b3 relative error: 8.70e-11\n",
      "\n",
      "Running check with dropout =  0.5\n",
      "Initial loss:  2.30243758771\n",
      "W1 relative error: 4.55e-08\n",
      "W2 relative error: 2.97e-08\n",
      "W3 relative error: 4.34e-07\n",
      "b1 relative error: 1.87e-08\n",
      "b2 relative error: 1.63e-09\n",
      "b3 relative error: 7.49e-11\n",
      "\n"
     ]
    }
   ],
   "source": [
    "N, D, H1, H2, C = 2, 15, 20, 30, 10\n",
    "X = np.random.randn(N, D)\n",
    "y = np.random.randint(C, size=(N,))\n",
    "\n",
    "for dropout in [0, 0.25, 0.5]:\n",
    "  print 'Running check with dropout = ', dropout\n",
    "  model = FullyConnectedNet([H1, H2], input_dim=D, num_classes=C,\n",
    "                            weight_scale=5e-2, dtype=np.float64,\n",
    "                            dropout=dropout, seed=123)\n",
    "\n",
    "  loss, grads = model.loss(X, y)\n",
    "  print 'Initial loss: ', loss\n",
    "\n",
    "  for name in sorted(grads):\n",
    "    f = lambda _: model.loss(X, y)[0]\n",
    "    grad_num = eval_numerical_gradient(f, model.params[name], verbose=False, h=1e-5)\n",
    "    print '%s relative error: %.2e' % (name, rel_error(grad_num, grads[name]))\n",
    "  print"
   ]
  },
  {
   "cell_type": "markdown",
   "metadata": {},
   "source": [
    "# Regularization experiment\n",
    "As an experiment, we will train a pair of two-layer networks on 500 training examples: one will use no dropout, and one will use a dropout probability of 0.75. We will then visualize the training and validation accuracies of the two networks over time."
   ]
  },
  {
   "cell_type": "code",
   "execution_count": 15,
   "metadata": {
    "collapsed": false,
    "scrolled": false
   },
   "outputs": [
    {
     "name": "stdout",
     "output_type": "stream",
     "text": [
      "0\n",
      "(Iteration 1 / 2500) loss: 8.012068\n",
      "(Epoch 0 / 25) train acc: 0.203000; val_acc: 0.194000\n",
      "(Epoch 1 / 25) train acc: 0.390000; val_acc: 0.330000\n",
      "(Iteration 101 / 2500) loss: 6.051538\n",
      "(Epoch 2 / 25) train acc: 0.522000; val_acc: 0.358000\n",
      "(Iteration 201 / 2500) loss: 2.607075\n",
      "(Epoch 3 / 25) train acc: 0.551000; val_acc: 0.385000\n",
      "(Iteration 301 / 2500) loss: 1.373934\n",
      "(Epoch 4 / 25) train acc: 0.636000; val_acc: 0.427000\n",
      "(Iteration 401 / 2500) loss: 1.234782\n",
      "(Epoch 5 / 25) train acc: 0.664000; val_acc: 0.410000\n",
      "(Iteration 501 / 2500) loss: 0.957959\n",
      "(Epoch 6 / 25) train acc: 0.600000; val_acc: 0.409000\n",
      "(Iteration 601 / 2500) loss: 1.241248\n",
      "(Epoch 7 / 25) train acc: 0.709000; val_acc: 0.432000\n",
      "(Iteration 701 / 2500) loss: 0.880940\n",
      "(Epoch 8 / 25) train acc: 0.691000; val_acc: 0.381000\n",
      "(Iteration 801 / 2500) loss: 0.845229\n",
      "(Epoch 9 / 25) train acc: 0.749000; val_acc: 0.421000\n",
      "(Iteration 901 / 2500) loss: 0.991302\n",
      "(Epoch 10 / 25) train acc: 0.693000; val_acc: 0.407000\n",
      "(Iteration 1001 / 2500) loss: 0.623776\n",
      "(Epoch 11 / 25) train acc: 0.742000; val_acc: 0.411000\n",
      "(Iteration 1101 / 2500) loss: 1.060400\n",
      "(Epoch 12 / 25) train acc: 0.761000; val_acc: 0.423000\n",
      "(Iteration 1201 / 2500) loss: 0.467493\n",
      "(Epoch 13 / 25) train acc: 0.824000; val_acc: 0.442000\n",
      "(Iteration 1301 / 2500) loss: 0.873749\n",
      "(Epoch 14 / 25) train acc: 0.828000; val_acc: 0.437000\n",
      "(Iteration 1401 / 2500) loss: 0.450382\n",
      "(Epoch 15 / 25) train acc: 0.866000; val_acc: 0.437000\n",
      "(Iteration 1501 / 2500) loss: 0.389330\n",
      "(Epoch 16 / 25) train acc: 0.893000; val_acc: 0.453000\n",
      "(Iteration 1601 / 2500) loss: 0.411260\n",
      "(Epoch 17 / 25) train acc: 0.854000; val_acc: 0.442000\n",
      "(Iteration 1701 / 2500) loss: 0.296259\n",
      "(Epoch 18 / 25) train acc: 0.900000; val_acc: 0.438000\n",
      "(Iteration 1801 / 2500) loss: 0.436067\n",
      "(Epoch 19 / 25) train acc: 0.878000; val_acc: 0.447000\n",
      "(Iteration 1901 / 2500) loss: 0.380162\n",
      "(Epoch 20 / 25) train acc: 0.915000; val_acc: 0.431000\n",
      "(Iteration 2001 / 2500) loss: 0.309754\n",
      "(Epoch 21 / 25) train acc: 0.925000; val_acc: 0.433000\n",
      "(Iteration 2101 / 2500) loss: 0.247362\n",
      "(Epoch 22 / 25) train acc: 0.928000; val_acc: 0.422000\n",
      "(Iteration 2201 / 2500) loss: 0.238716\n",
      "(Epoch 23 / 25) train acc: 0.952000; val_acc: 0.441000\n",
      "(Iteration 2301 / 2500) loss: 0.136298\n",
      "(Epoch 24 / 25) train acc: 0.970000; val_acc: 0.439000\n",
      "(Iteration 2401 / 2500) loss: 0.044250\n",
      "(Epoch 25 / 25) train acc: 0.990000; val_acc: 0.456000\n",
      "0.3\n",
      "(Iteration 1 / 2500) loss: 15.401267\n",
      "(Epoch 0 / 25) train acc: 0.174000; val_acc: 0.166000\n",
      "(Epoch 1 / 25) train acc: 0.371000; val_acc: 0.357000\n",
      "(Iteration 101 / 2500) loss: 11.101138\n",
      "(Epoch 2 / 25) train acc: 0.388000; val_acc: 0.353000\n",
      "(Iteration 201 / 2500) loss: 4.405457\n",
      "(Epoch 3 / 25) train acc: 0.404000; val_acc: 0.361000\n",
      "(Iteration 301 / 2500) loss: 3.191468\n",
      "(Epoch 4 / 25) train acc: 0.428000; val_acc: 0.361000\n",
      "(Iteration 401 / 2500) loss: 2.518052\n",
      "(Epoch 5 / 25) train acc: 0.419000; val_acc: 0.372000\n",
      "(Iteration 501 / 2500) loss: 2.199429\n",
      "(Epoch 6 / 25) train acc: 0.475000; val_acc: 0.381000\n",
      "(Iteration 601 / 2500) loss: 1.753183\n",
      "(Epoch 7 / 25) train acc: 0.463000; val_acc: 0.398000\n",
      "(Iteration 701 / 2500) loss: 2.241055\n",
      "(Epoch 8 / 25) train acc: 0.466000; val_acc: 0.370000\n",
      "(Iteration 801 / 2500) loss: 2.408223\n",
      "(Epoch 9 / 25) train acc: 0.443000; val_acc: 0.358000\n",
      "(Iteration 901 / 2500) loss: 2.160391\n",
      "(Epoch 10 / 25) train acc: 0.473000; val_acc: 0.406000\n",
      "(Iteration 1001 / 2500) loss: 1.985890\n",
      "(Epoch 11 / 25) train acc: 0.472000; val_acc: 0.427000\n",
      "(Iteration 1101 / 2500) loss: 1.980592\n",
      "(Epoch 12 / 25) train acc: 0.441000; val_acc: 0.401000\n",
      "(Iteration 1201 / 2500) loss: 1.856370\n",
      "(Epoch 13 / 25) train acc: 0.457000; val_acc: 0.375000\n",
      "(Iteration 1301 / 2500) loss: 2.371678\n",
      "(Epoch 14 / 25) train acc: 0.514000; val_acc: 0.401000\n",
      "(Iteration 1401 / 2500) loss: 1.922774\n",
      "(Epoch 15 / 25) train acc: 0.502000; val_acc: 0.394000\n",
      "(Iteration 1501 / 2500) loss: 1.998542\n",
      "(Epoch 16 / 25) train acc: 0.539000; val_acc: 0.419000\n",
      "(Iteration 1601 / 2500) loss: 1.893546\n",
      "(Epoch 17 / 25) train acc: 0.534000; val_acc: 0.414000\n",
      "(Iteration 1701 / 2500) loss: 1.595114\n",
      "(Epoch 18 / 25) train acc: 0.562000; val_acc: 0.423000\n",
      "(Iteration 1801 / 2500) loss: 1.592980\n",
      "(Epoch 19 / 25) train acc: 0.502000; val_acc: 0.391000\n",
      "(Iteration 1901 / 2500) loss: 1.693649\n",
      "(Epoch 20 / 25) train acc: 0.537000; val_acc: 0.390000\n",
      "(Iteration 2001 / 2500) loss: 1.547798\n",
      "(Epoch 21 / 25) train acc: 0.548000; val_acc: 0.398000\n",
      "(Iteration 2101 / 2500) loss: 1.542400\n",
      "(Epoch 22 / 25) train acc: 0.610000; val_acc: 0.413000\n",
      "(Iteration 2201 / 2500) loss: 1.676726\n",
      "(Epoch 23 / 25) train acc: 0.538000; val_acc: 0.408000\n",
      "(Iteration 2301 / 2500) loss: 1.604513\n",
      "(Epoch 24 / 25) train acc: 0.583000; val_acc: 0.428000\n",
      "(Iteration 2401 / 2500) loss: 1.651286\n",
      "(Epoch 25 / 25) train acc: 0.574000; val_acc: 0.442000\n",
      "0.75\n",
      "(Iteration 1 / 2500) loss: 7.983467\n",
      "(Epoch 0 / 25) train acc: 0.169000; val_acc: 0.181000\n",
      "(Epoch 1 / 25) train acc: 0.411000; val_acc: 0.343000\n",
      "(Iteration 101 / 2500) loss: 5.891414\n",
      "(Epoch 2 / 25) train acc: 0.469000; val_acc: 0.366000\n",
      "(Iteration 201 / 2500) loss: 3.168199\n",
      "(Epoch 3 / 25) train acc: 0.536000; val_acc: 0.385000\n",
      "(Iteration 301 / 2500) loss: 1.613492\n",
      "(Epoch 4 / 25) train acc: 0.545000; val_acc: 0.414000\n",
      "(Iteration 401 / 2500) loss: 1.621754\n",
      "(Epoch 5 / 25) train acc: 0.544000; val_acc: 0.365000\n",
      "(Iteration 501 / 2500) loss: 2.391390\n",
      "(Epoch 6 / 25) train acc: 0.569000; val_acc: 0.405000\n",
      "(Iteration 601 / 2500) loss: 1.622384\n",
      "(Epoch 7 / 25) train acc: 0.590000; val_acc: 0.400000\n",
      "(Iteration 701 / 2500) loss: 1.789009\n",
      "(Epoch 8 / 25) train acc: 0.652000; val_acc: 0.440000\n",
      "(Iteration 801 / 2500) loss: 1.065269\n",
      "(Epoch 9 / 25) train acc: 0.653000; val_acc: 0.431000\n",
      "(Iteration 901 / 2500) loss: 1.568970\n",
      "(Epoch 10 / 25) train acc: 0.628000; val_acc: 0.409000\n",
      "(Iteration 1001 / 2500) loss: 1.462099\n",
      "(Epoch 11 / 25) train acc: 0.640000; val_acc: 0.427000\n",
      "(Iteration 1101 / 2500) loss: 1.482573\n",
      "(Epoch 12 / 25) train acc: 0.711000; val_acc: 0.446000\n",
      "(Iteration 1201 / 2500) loss: 1.071500\n",
      "(Epoch 13 / 25) train acc: 0.632000; val_acc: 0.397000\n",
      "(Iteration 1301 / 2500) loss: 0.945903\n",
      "(Epoch 14 / 25) train acc: 0.652000; val_acc: 0.410000\n",
      "(Iteration 1401 / 2500) loss: 1.219751\n",
      "(Epoch 15 / 25) train acc: 0.709000; val_acc: 0.409000\n",
      "(Iteration 1501 / 2500) loss: 1.296652\n",
      "(Epoch 16 / 25) train acc: 0.723000; val_acc: 0.412000\n",
      "(Iteration 1601 / 2500) loss: 1.407108\n",
      "(Epoch 17 / 25) train acc: 0.790000; val_acc: 0.439000\n",
      "(Iteration 1701 / 2500) loss: 0.690893\n",
      "(Epoch 18 / 25) train acc: 0.768000; val_acc: 0.421000\n",
      "(Iteration 1801 / 2500) loss: 1.169442\n",
      "(Epoch 19 / 25) train acc: 0.791000; val_acc: 0.447000\n",
      "(Iteration 1901 / 2500) loss: 0.686539\n",
      "(Epoch 20 / 25) train acc: 0.831000; val_acc: 0.480000\n",
      "(Iteration 2001 / 2500) loss: 0.766586\n",
      "(Epoch 21 / 25) train acc: 0.815000; val_acc: 0.447000\n",
      "(Iteration 2101 / 2500) loss: 0.842560\n",
      "(Epoch 22 / 25) train acc: 0.851000; val_acc: 0.453000\n",
      "(Iteration 2201 / 2500) loss: 0.699569\n",
      "(Epoch 23 / 25) train acc: 0.858000; val_acc: 0.458000\n",
      "(Iteration 2301 / 2500) loss: 0.698752\n",
      "(Epoch 24 / 25) train acc: 0.880000; val_acc: 0.445000\n",
      "(Iteration 2401 / 2500) loss: 0.599304\n",
      "(Epoch 25 / 25) train acc: 0.882000; val_acc: 0.455000\n"
     ]
    }
   ],
   "source": [
    "# Train two identical nets, one with dropout and one without\n",
    "\n",
    "num_train = 10000\n",
    "small_data = {\n",
    "  'X_train': data['X_train'][:num_train],\n",
    "  'y_train': data['y_train'][:num_train],\n",
    "  'X_val': data['X_val'],\n",
    "  'y_val': data['y_val'],\n",
    "}\n",
    "\n",
    "solvers = {}\n",
    "dropout_choices = [0, 0.3, 0.75]\n",
    "for dropout in dropout_choices:\n",
    "  model = FullyConnectedNet([500], dropout=dropout)\n",
    "  print dropout\n",
    "\n",
    "  solver = Solver(model, small_data,\n",
    "                  num_epochs=25, batch_size=100,\n",
    "                  update_rule='adam',\n",
    "                  optim_config={\n",
    "                    'learning_rate': 5e-4,\n",
    "                  },\n",
    "                  verbose=True, print_every=100)\n",
    "  solver.train()\n",
    "  solvers[dropout] = solver"
   ]
  },
  {
   "cell_type": "code",
   "execution_count": 16,
   "metadata": {
    "collapsed": false
   },
   "outputs": [
    {
     "data": {
      "image/png": "[encoded data removed]",
      "text/plain": [
       "<matplotlib.figure.Figure at 0x111337f90>"
      ]
     },
     "metadata": {},
     "output_type": "display_data"
    }
   ],
   "source": [
    "# Plot train and validation accuracies of the two models\n",
    "\n",
    "train_accs = []\n",
    "val_accs = []\n",
    "for dropout in dropout_choices:\n",
    "  solver = solvers[dropout]\n",
    "  train_accs.append(solver.train_acc_history[-1])\n",
    "  val_accs.append(solver.val_acc_history[-1])\n",
    "\n",
    "plt.subplot(3, 1, 1)\n",
    "for dropout in dropout_choices:\n",
    "  plt.plot(solvers[dropout].train_acc_history, 'o', label='%.2f dropout' % dropout)\n",
    "plt.title('Train accuracy')\n",
    "plt.xlabel('Epoch')\n",
    "plt.ylabel('Accuracy')\n",
    "plt.legend(ncol=2, loc='lower right')\n",
    "  \n",
    "plt.subplot(3, 1, 2)\n",
    "for dropout in dropout_choices:\n",
    "  plt.plot(solvers[dropout].val_acc_history, 'o', label='%.2f dropout' % dropout)\n",
    "plt.title('Val accuracy')\n",
    "plt.xlabel('Epoch')\n",
    "plt.ylabel('Accuracy')\n",
    "plt.legend(ncol=2, loc='lower right')\n",
    "\n",
    "plt.gcf().set_size_inches(15, 15)\n",
    "plt.show()"
   ]
  },
  {
   "cell_type": "markdown",
   "metadata": {},
   "source": [
    "# Question\n",
    "Explain what you see in this experiment. What does it suggest about dropout?"
   ]
  },
  {
   "cell_type": "markdown",
   "metadata": {},
   "source": [
    "# Answer\n"
   ]
  }
 ],
 "metadata": {
  "kernelspec": {
   "display_name": "Python [Root]",
   "language": "python",
   "name": "Python [Root]"
  },
  "language_info": {
   "codemirror_mode": {
    "name": "ipython",
    "version": 2
   },
   "file_extension": ".py",
   "mimetype": "text/x-python",
   "name": "python",
   "nbconvert_exporter": "python",
   "pygments_lexer": "ipython2",
   "version": "2.7.12"
  }
 },
 "nbformat": 4,
 "nbformat_minor": 0
}
